{
 "cells": [
  {
   "cell_type": "code",
   "execution_count": 1,
   "id": "b4b876e4",
   "metadata": {},
   "outputs": [],
   "source": [
    "import numpy as np \n",
    "import pandas as pd\n",
    "from itertools import combinations"
   ]
  },
  {
   "cell_type": "code",
   "execution_count": 2,
   "id": "a7a6487c",
   "metadata": {},
   "outputs": [],
   "source": [
    "##Jonathan Bautista Parra\n",
    "def Floyd(C):\n",
    "    ln=len(C)\n",
    "    z=np.zeros((ln,ln))\n",
    "    for i in range(ln):\n",
    "        for j in range(ln):\n",
    "            z[i][j]=i+1\n",
    "    for k in range(ln):\n",
    "        for i in range(ln):\n",
    "            for j in range(ln):\n",
    "                if i!=k and j!=k and C[i][k]!=float('inf') and C[k][j]!=float('inf'):\n",
    "                    C[i][j]=min(C[i][j],C[i][k]+C[k][j])\n",
    "                    if C[i][j]==C[i][k]+C[k][j]:\n",
    "                        z[i][j]=z[k][j]\n",
    "                        #print(C[i][j])\n",
    "                        #print(z)\n",
    "        if C[i][i]<0:\n",
    "            return \n",
    "                    \n",
    "                    \n",
    "                    \n",
    "    return [C,z]\n",
    "    \n",
    "    "
   ]
  },
  {
   "cell_type": "code",
   "execution_count": 3,
   "id": "81b464ba",
   "metadata": {},
   "outputs": [],
   "source": [
    "def rutaPM(F,inicio,final):\n",
    "    auxin=inicio-1\n",
    "    indice=final-1\n",
    "    nodoPaso=final\n",
    "    I = float('inf')\n",
    "    C=F[0]\n",
    "    z=F[1]\n",
    "    ruta=[]\n",
    "    if(inicio==final):\n",
    "        print(\"la ruta de \",inicio,\" a \",final,\" es:\\n \",inicio)\n",
    "        print(\"con un peso de = \",C[inicio-1][final-1])\n",
    "        \n",
    "        return\n",
    "    if(C[auxin][indice]!=I):\n",
    "        ruta.append(nodoPaso)\n",
    "        nodoPaso=z[auxin][indice]\n",
    "        while(nodoPaso!=inicio and auxin!=indice):\n",
    "            ruta.append(nodoPaso)\n",
    "            indice=int(nodoPaso)-1\n",
    "            nodoPaso=z[auxin][indice]    \n",
    "        n=len(ruta)\n",
    "        print(\"la ruta de \",inicio,\" a \",final,\" es: \")\n",
    "        print(inicio,end=\"\")\n",
    "        for i in range(n):\n",
    "            print(\" -> \", int(ruta[n-1-i]),end=\"\")\n",
    "        print(\"\")\n",
    "        print(\"con un peso de = \",C[inicio-1][final-1])\n",
    "            \n",
    "        \n",
    "    else:\n",
    "        \n",
    "        print(\"no existe ruta de \" ,inicio,\" a \",final)\n",
    "        \n",
    "    "
   ]
  },
  {
   "cell_type": "code",
   "execution_count": 4,
   "id": "7bc477f6",
   "metadata": {},
   "outputs": [],
   "source": [
    "I = float('inf')\n",
    "G=[[0,5,2,I,I,I,I],[I,0,I,2,6,I,I],[I,I,0,7,I,9,I],[I,I,I,0,6,2,I],[I,I,I,I,0,I,2],[I,I,I,I,1,0,2],[I,I,I,I,I,I,0]]\n",
    "A=np.array(G)"
   ]
  },
  {
   "cell_type": "code",
   "execution_count": 5,
   "id": "19efefc0",
   "metadata": {},
   "outputs": [
    {
     "name": "stdout",
     "output_type": "stream",
     "text": [
      "la ruta de  1  a  7  es: \n",
      "1 ->  2 ->  4 ->  6 ->  7\n",
      "con un peso de =  11.0\n"
     ]
    }
   ],
   "source": [
    "rutaPM(Floyd(A),1,7)"
   ]
  },
  {
   "cell_type": "code",
   "execution_count": null,
   "id": "bd15a47a",
   "metadata": {},
   "outputs": [],
   "source": []
  }
 ],
 "metadata": {
  "kernelspec": {
   "display_name": "Python 3 (ipykernel)",
   "language": "python",
   "name": "python3"
  },
  "language_info": {
   "codemirror_mode": {
    "name": "ipython",
    "version": 3
   },
   "file_extension": ".py",
   "mimetype": "text/x-python",
   "name": "python",
   "nbconvert_exporter": "python",
   "pygments_lexer": "ipython3",
   "version": "3.9.13"
  }
 },
 "nbformat": 4,
 "nbformat_minor": 5
}
